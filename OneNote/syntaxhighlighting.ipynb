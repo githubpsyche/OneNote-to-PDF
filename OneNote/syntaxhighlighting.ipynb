{
 "cells": [
  {
   "cell_type": "markdown",
   "metadata": {},
   "source": [
    "# Syntax Highlighting"
   ]
  },
  {
   "cell_type": "code",
   "execution_count": 41,
   "metadata": {},
   "outputs": [
    {
     "name": "stdout",
     "output_type": "stream",
     "text": [
      "<div style=\"background: #ffffff; overflow:auto;width:auto;border:solid gray;border-width:.1em .1em .1em .8em;padding:.2em .6em;\"><pre style=\"margin: 0; line-height: 125%\"><span></span><span style=\"color: #008800; font-weight: bold\">from</span> <span style=\"color: #0e84b5; font-weight: bold\">pygments</span> <span style=\"color: #008800; font-weight: bold\">import</span> highlight\n",
      "<span style=\"color: #008800; font-weight: bold\">from</span> <span style=\"color: #0e84b5; font-weight: bold\">pygments.lexers</span> <span style=\"color: #008800; font-weight: bold\">import</span> PythonLexer\n",
      "<span style=\"color: #008800; font-weight: bold\">from</span> <span style=\"color: #0e84b5; font-weight: bold\">pygments.formatters</span> <span style=\"color: #008800; font-weight: bold\">import</span> HtmlFormatter\n",
      "\n",
      "code <span style=\"color: #333333\">=</span> <span style=\"background-color: #fff0f0\">&#39;print &quot;Hello World&quot;&#39;</span>\n",
      "<span style=\"color: #008800; font-weight: bold\">print</span>(highlight(code, PythonLexer(), HtmlFormatter(full<span style=\"color: #333333\">=</span><span style=\"color: #007020\">True</span>)))\n",
      "</pre></div>\n",
      "\n"
     ]
    }
   ],
   "source": [
    "from pygments import highlight\n",
    "from pygments.formatters import HtmlFormatter\n",
    "from pygments.lexers import get_lexer_by_name\n",
    "\n",
    "code = '''from pygments import highlight\n",
    "from pygments.lexers import PythonLexer\n",
    "from pygments.formatters import HtmlFormatter\n",
    "\n",
    "code = 'print \"Hello World\"'\n",
    "print(highlight(code, PythonLexer(), HtmlFormatter(full=True)))'''\n",
    "\n",
    "formatter = HtmlFormatter(style='colorful',\n",
    "                          linenos=False,\n",
    "                          noclasses=True,\n",
    "                          cssclass='',\n",
    "                          cssstyles='overflow:auto;width:auto;border:solid gray;border-width:.1em .1em .1em .8em;padding:.2em .6em;',\n",
    "                          prestyles='margin: 0')\n",
    "\n",
    "print(highlight(code, get_lexer_by_name('python'), formatter))"
   ]
  },
  {
   "cell_type": "markdown",
   "metadata": {},
   "source": [
    "# IPython Shell Operation\n",
    "https://ipython.readthedocs.io/en/stable/api/generated/IPython.core.interactiveshell.html"
   ]
  },
  {
   "cell_type": "code",
   "execution_count": 6,
   "metadata": {},
   "outputs": [],
   "source": [
    "test = IPython.core.interactiveshell.InteractiveShell()"
   ]
  },
  {
   "cell_type": "code",
   "execution_count": 12,
   "metadata": {},
   "outputs": [
    {
     "name": "stdout",
     "output_type": "stream",
     "text": [
      "Out[1]: 'hi'\n"
     ]
    }
   ],
   "source": [
    "result = test.run_cell('a = \"hi\"; a')"
   ]
  },
  {
   "cell_type": "code",
   "execution_count": 13,
   "metadata": {
    "collapsed": true,
    "jupyter": {
     "outputs_hidden": true
    }
   },
   "outputs": [
    {
     "data": {
      "text/plain": [
       "['__class__',\n",
       " '__delattr__',\n",
       " '__dict__',\n",
       " '__dir__',\n",
       " '__doc__',\n",
       " '__eq__',\n",
       " '__format__',\n",
       " '__ge__',\n",
       " '__getattribute__',\n",
       " '__gt__',\n",
       " '__hash__',\n",
       " '__init__',\n",
       " '__init_subclass__',\n",
       " '__le__',\n",
       " '__lt__',\n",
       " '__module__',\n",
       " '__ne__',\n",
       " '__new__',\n",
       " '__reduce__',\n",
       " '__reduce_ex__',\n",
       " '__repr__',\n",
       " '__setattr__',\n",
       " '__sizeof__',\n",
       " '__str__',\n",
       " '__subclasshook__',\n",
       " '__weakref__',\n",
       " 'error_before_exec',\n",
       " 'error_in_exec',\n",
       " 'execution_count',\n",
       " 'info',\n",
       " 'raise_error',\n",
       " 'result',\n",
       " 'success']"
      ]
     },
     "execution_count": 13,
     "metadata": {},
     "output_type": "execute_result"
    }
   ],
   "source": [
    "dir(result)"
   ]
  },
  {
   "cell_type": "code",
   "execution_count": 16,
   "metadata": {},
   "outputs": [
    {
     "data": {
      "text/plain": [
       "<ExecutionResult object at 2e88c54c128, execution_count=None error_before_exec=None error_in_exec=None info=<ExecutionInfo object at 2e88c54c400, raw_cell=\"a = \"hi\"; a\" store_history=False silent=False shell_futures=True> result='hi'>"
      ]
     },
     "execution_count": 16,
     "metadata": {},
     "output_type": "execute_result"
    }
   ],
   "source": [
    "result"
   ]
  },
  {
   "cell_type": "code",
   "execution_count": 18,
   "metadata": {},
   "outputs": [
    {
     "name": "stdout",
     "output_type": "stream",
     "text": [
      "Out[1]: 'hi'\n"
     ]
    },
    {
     "data": {
      "text/plain": [
       "<ExecutionResult object at 2e88c5365c0, execution_count=None error_before_exec=None error_in_exec=None info=<ExecutionInfo object at 2e88c52cfd0, raw_cell=\"a\" store_history=False silent=False shell_futures=True> result='hi'>"
      ]
     },
     "execution_count": 18,
     "metadata": {},
     "output_type": "execute_result"
    }
   ],
   "source": [
    "test.run_cell('a')"
   ]
  },
  {
   "cell_type": "code",
   "execution_count": 19,
   "metadata": {},
   "outputs": [
    {
     "ename": "NameError",
     "evalue": "name 'a' is not defined",
     "output_type": "error",
     "traceback": [
      "\u001b[1;31m---------------------------------------------------------------------------\u001b[0m",
      "\u001b[1;31mNameError\u001b[0m                                 Traceback (most recent call last)",
      "\u001b[1;32m<ipython-input-19-3f786850e387>\u001b[0m in \u001b[0;36m<module>\u001b[1;34m()\u001b[0m\n\u001b[1;32m----> 1\u001b[1;33m \u001b[0ma\u001b[0m\u001b[1;33m\u001b[0m\u001b[0m\n\u001b[0m",
      "\u001b[1;31mNameError\u001b[0m: name 'a' is not defined"
     ]
    }
   ],
   "source": [
    "a"
   ]
  },
  {
   "cell_type": "code",
   "execution_count": null,
   "metadata": {},
   "outputs": [],
   "source": []
  }
 ],
 "metadata": {
  "kernelspec": {
   "display_name": "Python 3",
   "language": "python",
   "name": "python3"
  },
  "language_info": {
   "codemirror_mode": {
    "name": "ipython",
    "version": 3
   },
   "file_extension": ".py",
   "mimetype": "text/x-python",
   "name": "python",
   "nbconvert_exporter": "python",
   "pygments_lexer": "ipython3",
   "version": "3.7.4"
  }
 },
 "nbformat": 4,
 "nbformat_minor": 4
}
